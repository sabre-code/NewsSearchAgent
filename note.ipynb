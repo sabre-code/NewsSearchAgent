{
 "cells": [
  {
   "cell_type": "code",
   "execution_count": 2,
   "metadata": {},
   "outputs": [],
   "source": [
    "import os\n",
    "from dotenv import load_dotenv\n",
    "load_dotenv()\n",
    "SERPER_API = os.getenv(\"SERPER_API\")\n",
    "HF_API = os.getenv(\"HF_API\")\n",
    "GEMINI_API = os.getenv(\"GEMINI\")"
   ]
  },
  {
   "cell_type": "code",
   "execution_count": 8,
   "metadata": {},
   "outputs": [],
   "source": [
    "from langchain_community.utilities import GoogleSerperAPIWrapper\n",
    "from langchain.tools import tool\n",
    "import google.generativeai as genai\n",
    "from langchain_google_genai import ChatGoogleGenerativeAI\n",
    "from langchain.prompts import PromptTemplate\n",
    "from langchain.agents import AgentExecutor, create_react_agent"
   ]
  },
  {
   "cell_type": "code",
   "execution_count": 10,
   "metadata": {},
   "outputs": [],
   "source": [
    "search = GoogleSerperAPIWrapper(gl='in',type='news',serper_api_key=SERPER_API,tbs=\"qdr:d\")\n",
    "\n",
    "@tool\n",
    "def news_search(query):\n",
    "    \"\"\"Search Google for recent results\"\"\"\n",
    "    result = search.results(query=query)\n",
    "    stack = \"\"\n",
    "    for new in result['news']:\n",
    "        news_article = new['title'] + \"\\n\" +new['source'] + \"\\n\"+ new['link']+ \"\\n\\n\"\n",
    "        stack = stack + news_article\n",
    "    return stack\n",
    "\n",
    "tools = [news_search]"
   ]
  },
  {
   "cell_type": "code",
   "execution_count": 23,
   "metadata": {},
   "outputs": [],
   "source": [
    "prompt = PromptTemplate(\n",
    "    template = \"Answer the following questions as best you can. You have access to the following tools:\\n\\n{tools}\\n\\nUse the following format:\\n\\nQuestion: the input question you must answer\\n Thought: you should always think about what to do\\nAction: the action to take , should be one of [{tool_names}]\\nAction Input: the input to the action\\nObservation: the result of the action\\n... (this Thought/Action/Action Input/Observation can repeat N times)\\n Thought: I now know the final answer\\n Final Answer: the final answer to the original input question here the final answer should have the result of action as it is along with your answer\\n\\nBegin!\\n\\nQuestion: {input}\\nThought:{agent_scratchpad}\",\n",
    "    input_variables = ['input', 'tool_names', 'tools','agent_scratchpad','tool_names']\n",
    ")"
   ]
  },
  {
   "cell_type": "code",
   "execution_count": 24,
   "metadata": {},
   "outputs": [],
   "source": [
    "llm = ChatGoogleGenerativeAI(model=\"gemini-1.5-flash\",temperature=0.3,google_api_key=GEMINI)\n"
   ]
  },
  {
   "cell_type": "code",
   "execution_count": 25,
   "metadata": {},
   "outputs": [],
   "source": [
    "agent = create_react_agent(llm=llm, tools = tools,prompt = prompt)"
   ]
  },
  {
   "cell_type": "code",
   "execution_count": 26,
   "metadata": {},
   "outputs": [],
   "source": [
    "agent_executor = AgentExecutor(agent=agent,tools = tools, handle_parsing_errors=True, max_iterations=5,verbose=True)"
   ]
  },
  {
   "cell_type": "code",
   "execution_count": 27,
   "metadata": {},
   "outputs": [
    {
     "name": "stdout",
     "output_type": "stream",
     "text": [
      "\n",
      "\n",
      "\u001b[1m> Entering new AgentExecutor chain...\u001b[0m\n",
      "\u001b[32;1m\u001b[1;3mThought: I need to find some recent news articles.\n",
      "Action: news_search\n",
      "Action Input: \"latest news\"\u001b[0m\u001b[36;1m\u001b[1;3mLatest News, Live Updates Today June 12, 2024: Is Joe Biden facing new trouble? Here's how son Hunter's conviction can impact POTUS' campaign against Trump\n",
      "Hindustan Times\n",
      "https://www.hindustantimes.com/india-news/latest-world-news-today-live-updates-june-12-2024-101718131700696.html\n",
      "\n",
      "Latest News Today Live Updates June 12, 2024: Modi 3.0: Ministers were informed of their portfolios at 1st Cabinet meeting, says report | Today News\n",
      "mint\n",
      "https://www.livemint.com/news/latest-news-today-live-updates-june-12-2024-11718152615673.html\n",
      "\n",
      "Today's Top News Headlines and Latest News at 10:30 am on 12 June 2024\n",
      "The Indian Express\n",
      "https://indianexpress.com/audio/expresso-news-update/todays-top-news-headlines-and-latest-news-at-1030-am-on-12-june-2024/9387016/\n",
      "\n",
      "Latest entertainment News, Live Updates Today June 12, 2024: Kevin Spacey breaks down over mounting financial woes, ‘I can’t pay the bills that I owe’: Watch\n",
      "Hindustan Times\n",
      "https://www.hindustantimes.com/entertainment/latest-entertainment-today-live-updates-june-12-2024-101718133468183.html\n",
      "\n",
      "Latest News Today Live Updates June 11, 2024: Bus crashes into wall of housing society in Noida sector-118; one dead, another critical | Watch | Today News\n",
      "mint\n",
      "https://www.livemint.com/news/latest-news-today-live-updates-june-11-2024-11718067731381.html\n",
      "\n",
      "Latest News, Live Updates Today June 11, 2024: Boxing star Ryan Garcia breaks silence following arrest at Beverly Hills Hotel, ‘I've been dealing…’\n",
      "Hindustan Times\n",
      "https://www.hindustantimes.com/india-news/latest-world-news-today-live-updates-june-11-2024-101718046288905.html\n",
      "\n",
      "Sensex Today | Share Market Live Updates: Sensex off day's high, up 150 points, Nifty holds 23,300 | Stock Market News\n",
      "mint\n",
      "https://www.livemint.com/market/stock-market-news/sensex-nifty-today-share-market-live-updates-indigo-hcl-wipro-tcs-12-june-2024-suzlon-icici-tata-motors-share-price-11718158004234.html\n",
      "\n",
      "NEET Result Controversy Live: NTA releases FAQs and answers to NEET UG results\n",
      "Hindustan Times\n",
      "https://www.hindustantimes.com/education/exam-results/neet-result-2024-controversy-supreme-court-petition-exam-cancelled-re-test-congress-rahul-gandhi-dmk-stalin-latest-news-101718009477529.html\n",
      "\n",
      "Modi 3.0: Can Anil Ambani's Reliance Power follow Gautam Adani's power business to emerge as next market leader? | Stock Market News\n",
      "mint\n",
      "https://www.livemint.com/market/stock-market-news/modi-3-0-can-anil-ambanis-reliance-power-follow-gautam-adanis-power-business-to-emerge-as-next-market-leader-11718168652296.html\n",
      "\n",
      "ixigo IPO oversubscribed by 43.89 times on the last day of bidding so far, NIIs steal the show; check GMP, key dates | Stock Market News\n",
      "mint\n",
      "https://www.livemint.com/market/ipo/ixigo-ipo-oversubscribed-by-43-89-times-on-the-last-day-of-bidding-so-far-niis-steal-the-show-check-gmp-key-dates-11718176902816.html\n",
      "\n",
      "\u001b[0m\u001b[32;1m\u001b[1;3mThought: I have a list of news articles from various sources. \n",
      "Final Answer: Here are some latest news articles:\n",
      "\n",
      "* **Latest News, Live Updates Today June 12, 2024: Is Joe Biden facing new trouble? Here's how son Hunter's conviction can impact POTUS' campaign against Trump** - Hindustan Times - https://www.hindustantimes.com/india-news/latest-world-news-today-live-updates-june-12-2024-101718131700696.html\n",
      "* **Latest News Today Live Updates June 12, 2024: Modi 3.0: Ministers were informed of their portfolios at 1st Cabinet meeting, says report | Today News** - mint - https://www.livemint.com/news/latest-news-today-live-updates-june-12-2024-11718152615673.html\n",
      "* **Today's Top News Headlines and Latest News at 10:30 am on 12 June 2024** - The Indian Express - https://indianexpress.com/audio/expresso-news-update/todays-top-news-headlines-and-latest-news-at-1030-am-on-12-june-2024/9387016/\n",
      "* **Latest entertainment News, Live Updates Today June 12, 2024: Kevin Spacey breaks down over mounting financial woes, ‘I can’t pay the bills that I owe’: Watch** - Hindustan Times - https://www.hindustantimes.com/entertainment/latest-entertainment-today-live-updates-june-12-2024-101718133468183.html\n",
      "* **Latest News Today Live Updates June 11, 2024: Bus crashes into wall of housing society in Noida sector-118; one dead, another critical | Watch | Today News** - mint - https://www.livemint.com/news/latest-news-today-live-updates-june-11-2024-11718067731381.html\n",
      "* **Latest News, Live Updates Today June 11, 2024: Boxing star Ryan Garcia breaks silence following arrest at Beverly Hills Hotel, ‘I've been dealing…’** - Hindustan Times - https://www.hindustantimes.com/india-news/latest-world-news-today-live-updates-june-11-2024-101718046288905.html\n",
      "* **Sensex Today | Share Market Live Updates: Sensex off day's high, up 150 points, Nifty holds 23,300 | Stock Market News** - mint - https://www.livemint.com/market/stock-market-news/sensex-nifty-today-share-market-live-updates-indigo-hcl-wipro-tcs-12-june-2024-suzlon-icici-tata-motors-share-price-11718158004234.html\n",
      "* **NEET Result Controversy Live: NTA releases FAQs and answers to NEET UG results** - Hindustan Times - https://www.hindustantimes.com/education/exam-results/neet-result-2024-controversy-supreme-court-petition-exam-cancelled-re-test-congress-rahul-gandhi-dmk-stalin-latest-news-101718009477529.html\n",
      "* **Modi 3.0: Can Anil Ambani's Reliance Power follow Gautam Adani's power business to emerge as next market leader? | Stock Market News** - mint - https://www.livemint.com/market/stock-market-news/modi-3-0-can-anil-ambanis-reliance-power-follow-gautam-adanis-power-business-to-emerge-as-next-market-leader-11718168652296.html\n",
      "* **ixigo IPO oversubscribed by 43.89 times on the last day of bidding so far, NIIs steal the show; check GMP, key dates | Stock Market News** - mint - https://www.livemint.com/market/ipo/ixigo-ipo-oversubscribed-by-43-89-times-on-the-last-day-of-bidding-so-far-niis-steal-the-show-check-gmp-key-dates-11718176902816.html \n",
      "\u001b[0m\n",
      "\n",
      "\u001b[1m> Finished chain.\u001b[0m\n"
     ]
    },
    {
     "data": {
      "text/plain": [
       "{'input': 'Give me some latest news? Always mention the link to article in response',\n",
       " 'output': \"Here are some latest news articles:\\n\\n* **Latest News, Live Updates Today June 12, 2024: Is Joe Biden facing new trouble? Here's how son Hunter's conviction can impact POTUS' campaign against Trump** - Hindustan Times - https://www.hindustantimes.com/india-news/latest-world-news-today-live-updates-june-12-2024-101718131700696.html\\n* **Latest News Today Live Updates June 12, 2024: Modi 3.0: Ministers were informed of their portfolios at 1st Cabinet meeting, says report | Today News** - mint - https://www.livemint.com/news/latest-news-today-live-updates-june-12-2024-11718152615673.html\\n* **Today's Top News Headlines and Latest News at 10:30 am on 12 June 2024** - The Indian Express - https://indianexpress.com/audio/expresso-news-update/todays-top-news-headlines-and-latest-news-at-1030-am-on-12-june-2024/9387016/\\n* **Latest entertainment News, Live Updates Today June 12, 2024: Kevin Spacey breaks down over mounting financial woes, ‘I can’t pay the bills that I owe’: Watch** - Hindustan Times - https://www.hindustantimes.com/entertainment/latest-entertainment-today-live-updates-june-12-2024-101718133468183.html\\n* **Latest News Today Live Updates June 11, 2024: Bus crashes into wall of housing society in Noida sector-118; one dead, another critical | Watch | Today News** - mint - https://www.livemint.com/news/latest-news-today-live-updates-june-11-2024-11718067731381.html\\n* **Latest News, Live Updates Today June 11, 2024: Boxing star Ryan Garcia breaks silence following arrest at Beverly Hills Hotel, ‘I've been dealing…’** - Hindustan Times - https://www.hindustantimes.com/india-news/latest-world-news-today-live-updates-june-11-2024-101718046288905.html\\n* **Sensex Today | Share Market Live Updates: Sensex off day's high, up 150 points, Nifty holds 23,300 | Stock Market News** - mint - https://www.livemint.com/market/stock-market-news/sensex-nifty-today-share-market-live-updates-indigo-hcl-wipro-tcs-12-june-2024-suzlon-icici-tata-motors-share-price-11718158004234.html\\n* **NEET Result Controversy Live: NTA releases FAQs and answers to NEET UG results** - Hindustan Times - https://www.hindustantimes.com/education/exam-results/neet-result-2024-controversy-supreme-court-petition-exam-cancelled-re-test-congress-rahul-gandhi-dmk-stalin-latest-news-101718009477529.html\\n* **Modi 3.0: Can Anil Ambani's Reliance Power follow Gautam Adani's power business to emerge as next market leader? | Stock Market News** - mint - https://www.livemint.com/market/stock-market-news/modi-3-0-can-anil-ambanis-reliance-power-follow-gautam-adanis-power-business-to-emerge-as-next-market-leader-11718168652296.html\\n* **ixigo IPO oversubscribed by 43.89 times on the last day of bidding so far, NIIs steal the show; check GMP, key dates | Stock Market News** - mint - https://www.livemint.com/market/ipo/ixigo-ipo-oversubscribed-by-43-89-times-on-the-last-day-of-bidding-so-far-niis-steal-the-show-check-gmp-key-dates-11718176902816.html\"}"
      ]
     },
     "execution_count": 27,
     "metadata": {},
     "output_type": "execute_result"
    }
   ],
   "source": [
    "agent_executor.invoke({\"input\": \"Give me some latest news? Always mention the link to article in response\"})"
   ]
  },
  {
   "cell_type": "code",
   "execution_count": null,
   "metadata": {},
   "outputs": [],
   "source": []
  }
 ],
 "metadata": {
  "kernelspec": {
   "display_name": ".venv",
   "language": "python",
   "name": "python3"
  },
  "language_info": {
   "codemirror_mode": {
    "name": "ipython",
    "version": 3
   },
   "file_extension": ".py",
   "mimetype": "text/x-python",
   "name": "python",
   "nbconvert_exporter": "python",
   "pygments_lexer": "ipython3",
   "version": "3.11.3"
  }
 },
 "nbformat": 4,
 "nbformat_minor": 2
}
